{
 "cells": [
  {
   "cell_type": "markdown",
   "metadata": {},
   "source": [
    "<font size=-1>Licensed under the Apache License, Version 2.0 (the \\\"License\\\");\n",
    "you may not use this file except in compliance with the License.\n",
    "You may obtain a copy of the License at [https://www.apache.org/licenses/LICENSE-2.0](https://www.apache.org/licenses/LICENSE-2.0)\n",
    "\n",
    "Unless required by applicable law or agreed to in writing, software distributed under the License is distributed on an \\\"AS IS\\\" BASIS, WITHOUT WARRANTIES OR CONDITIONS OF ANY KIND, either express or implied.  See the License for the specific language governing permissions and limitations under the License.</font>"
   ]
  },
  {
   "cell_type": "code",
   "execution_count": null,
   "metadata": {},
   "outputs": [],
   "source": [
    "import yaml\n",
    "\n",
    "# Set `PATH` to include the directory containing TFX CLI.\n",
    "PATH=%env PATH\n",
    "%env PATH=/home/jupyter/.local/bin:{PATH}"
   ]
  },
  {
   "cell_type": "code",
   "execution_count": null,
   "metadata": {},
   "outputs": [],
   "source": [
    "!python -c \"import tfx; print('TFX version: {}'.format(tfx.__version__))\""
   ]
  },
  {
   "cell_type": "markdown",
   "metadata": {},
   "source": [
    "# CI/CD for TFX pipelines"
   ]
  },
  {
   "cell_type": "markdown",
   "metadata": {},
   "source": [
    "In this lab you will walk through authoring of a Cloud Build CI/CD workflow that automatically builds and deploys a TFX pipeline. You will also integrate your workflow with GitHub by setting up a trigger that starts the workflow when a new tag is applied to the GitHub repo hosting the pipeline's code.\n",
    "\n"
   ]
  },
  {
   "cell_type": "markdown",
   "metadata": {},
   "source": [
    "## Understanding the Cloud Build workflow\n",
    "Review the `cloudbuild.yaml` file to understand how the CI/CD workflow is implemented and how environment specific settings are abstracted using **Cloud Build** variables.\n",
    "\n",
    "The **Cloud Build** CI/CD workflow automates the steps you walked through manually during `lab-02`:\n",
    "1. Builds the custom TFX image to be used as a runtime execution environment for TFX components and as the AI Platform Training training container.\n",
    "1. Compiles the pipeline and uploads the pipeline to the KFP environment\n",
    "1. Pushes the custom TFX image to your project's **Container Registry**\n",
    "\n",
    "The **Cloud Build** workflow configuration uses both standard and custom [Cloud Build builders](https://cloud.google.com/cloud-build/docs/cloud-builders). The custom builder encapsulates **TFX CLI**. \n"
   ]
  },
  {
   "cell_type": "markdown",
   "metadata": {},
   "source": [
    "## Configuring environment settings\n",
    "\n",
    "Update  the below constants  with the settings reflecting your lab environment. \n",
    "\n",
    "- `GCP_REGION` - the compute region for AI Platform Training and Prediction\n",
    "- `ARTIFACT_STORE` - the GCS bucket created during installation of AI Platform Pipelines. The bucket name starts with the `hostedkfp-default-` prefix.\n",
    "- `ENDPOINT` - set the `ENDPOINT` constant to the endpoint to your AI Platform Pipelines instance. Then endpoint to the AI Platform Pipelines instance can be found on the [AI Platform Pipelines](https://console.cloud.google.com/ai-platform/pipelines/clusters) page in the Google Cloud Console.\n",
    "\n",
    "1. Open the *SETTINGS* for your instance\n",
    "2. Use the value of the `host` variable in the *Connect to this Kubeflow Pipelines instance from a Python client via Kubeflow Pipelines SKD* section of the *SETTINGS* window."
   ]
  },
  {
   "cell_type": "code",
   "execution_count": 1,
   "metadata": {},
   "outputs": [],
   "source": [
    "GCP_REGION = 'us-central1'\n",
    "ARTIFACT_STORE_URI = 'gs://hostedkfp-default-dcsh2ljqmk'\n",
    "ENDPOINT = '756f6ab12e557cde-dot-us-central2.pipelines.googleusercontent.com'\n",
    "PROJECT_ID = !(gcloud config get-value core/project)\n",
    "PROJECT_ID = PROJECT_ID[0]"
   ]
  },
  {
   "cell_type": "markdown",
   "metadata": {},
   "source": [
    "## Creating the TFX CLI builder\n",
    "### Review the Dockerfile describing the TFX CLI builder"
   ]
  },
  {
   "cell_type": "code",
   "execution_count": 2,
   "metadata": {},
   "outputs": [
    {
     "name": "stdout",
     "output_type": "stream",
     "text": [
      "FROM gcr.io/deeplearning-platform-release/tf2-cpu.2-1\n",
      "COPY requirements.txt .\n",
      "RUN python -m pip install -U -r requirements.txt\n",
      "\n",
      "ENTRYPOINT [\"tfx\"]\n"
     ]
    }
   ],
   "source": [
    "!cat Dockerfile"
   ]
  },
  {
   "cell_type": "code",
   "execution_count": 3,
   "metadata": {},
   "outputs": [
    {
     "name": "stdout",
     "output_type": "stream",
     "text": [
      "pandas<1.0.0\n",
      "tfx==0.21.2\n",
      "kfp==0.2.5\n"
     ]
    }
   ],
   "source": [
    "!cat requirements.txt"
   ]
  },
  {
   "cell_type": "markdown",
   "metadata": {},
   "source": [
    "### Build the image and push it to your project's **Container Registry**."
   ]
  },
  {
   "cell_type": "code",
   "execution_count": 4,
   "metadata": {},
   "outputs": [],
   "source": [
    "IMAGE_NAME='tfx-cli'\n",
    "TAG='latest'\n",
    "IMAGE_URI='gcr.io/{}/{}:{}'.format(PROJECT_ID, IMAGE_NAME, TAG)"
   ]
  },
  {
   "cell_type": "code",
   "execution_count": null,
   "metadata": {},
   "outputs": [],
   "source": [
    "!gcloud builds submit --timeout 15m --tag {IMAGE_URI} ."
   ]
  },
  {
   "cell_type": "markdown",
   "metadata": {},
   "source": [
    "## Manually triggering CI/CD runs\n",
    "\n",
    "You can manually trigger **Cloud Build** runs using the `gcloud builds submit` command."
   ]
  },
  {
   "cell_type": "code",
   "execution_count": 5,
   "metadata": {},
   "outputs": [],
   "source": [
    "PIPELINE_NAME='tfx_covertype_training_deployment'\n",
    "TAG_NAME='test'\n",
    "TFX_IMAGE_NAME='lab-03-tfx-image'\n",
    "DATA_ROOT_URI='gs://workshop-datasets/covertype/small'\n",
    "MODEL_NAME='tfx_covertype_classifier'\n",
    "PIPELINE_FOLDER='lab-02-tfx-pipeline'\n",
    "PIPELINE_DSL='pipeline/runner.py'\n",
    "RUNTIME_VERSION='2.1'\n",
    "PYTHON_VERSION='3.7'\n",
    "\n",
    "SUBSTITUTIONS=\"\"\"\n",
    "_ENDPOINT={},\\\n",
    "_GCP_REGION={},\\\n",
    "_ARTIFACT_STORE_URI={},\\\n",
    "_TFX_IMAGE_NAME={},\\\n",
    "_DATA_ROOT_URI={},\\\n",
    "_MODEL_NAME={},\\\n",
    "TAG_NAME={},\\\n",
    "_PIPELINE_FOLDER={},\\\n",
    "_PIPELINE_DSL={},\\\n",
    "_PIPELINE_NAME={},\\\n",
    "_RUNTIME_VERSION={},\\\n",
    "_PYTHON_VERSION={}\n",
    "\"\"\".format(ENDPOINT, \n",
    "           GCP_REGION, \n",
    "           ARTIFACT_STORE_URI, \n",
    "           TFX_IMAGE_NAME,\n",
    "           DATA_ROOT_URI,\n",
    "           MODEL_NAME,\n",
    "           TAG_NAME, \n",
    "           PIPELINE_FOLDER,\n",
    "           PIPELINE_DSL,\n",
    "           PIPELINE_NAME,\n",
    "           RUNTIME_VERSION,\n",
    "           PYTHON_VERSION\n",
    "           ).strip()"
   ]
  },
  {
   "cell_type": "code",
   "execution_count": 6,
   "metadata": {},
   "outputs": [
    {
     "name": "stdout",
     "output_type": "stream",
     "text": [
      "Creating temporary tarball archive of 43 file(s) totalling 199.9 KiB before compression.\n",
      "Uploading tarball of [..] to [gs://mlops-workshop_cloudbuild/source/1585178032.68-05035c48d9af4d18bb0626b491874c13.tgz]\n",
      "Created [https://cloudbuild.googleapis.com/v1/projects/mlops-workshop/builds/3b4704f8-23f2-49f6-ba45-fb53fab90909].\n",
      "Logs are available at [https://console.cloud.google.com/cloud-build/builds/3b4704f8-23f2-49f6-ba45-fb53fab90909?project=745302968357].\n",
      "----------------------------- REMOTE BUILD OUTPUT ------------------------------\n",
      "starting build \"3b4704f8-23f2-49f6-ba45-fb53fab90909\"\n",
      "\n",
      "FETCHSOURCE\n",
      "Fetching storage object: gs://mlops-workshop_cloudbuild/source/1585178032.68-05035c48d9af4d18bb0626b491874c13.tgz#1585178033087088\n",
      "Copying gs://mlops-workshop_cloudbuild/source/1585178032.68-05035c48d9af4d18bb0626b491874c13.tgz#1585178033087088...\n",
      "/ [1 files][ 53.0 KiB/ 53.0 KiB]                                                \n",
      "Operation completed over 1 objects/53.0 KiB.                                     \n",
      "BUILD\n",
      "Starting Step #0\n",
      "Step #0: Already have image (with digest): gcr.io/cloud-builders/docker\n",
      "Step #0: Sending build context to Docker daemon  111.1kB\n",
      "Step #0: Step 1/5 : FROM tensorflow/tfx:0.21.2\n",
      "Step #0: 0.21.2: Pulling from tensorflow/tfx\n",
      "Step #0: fe703b657a32: Pulling fs layer\n",
      "Step #0: f9df1fafd224: Pulling fs layer\n",
      "Step #0: a645a4b887f9: Pulling fs layer\n",
      "Step #0: 57db7fe0b522: Pulling fs layer\n",
      "Step #0: b11ab658a92d: Pulling fs layer\n",
      "Step #0: 16211b60a645: Pulling fs layer\n",
      "Step #0: 3bb944b07b6e: Pulling fs layer\n",
      "Step #0: 791f84056415: Pulling fs layer\n",
      "Step #0: 3d7f8829d670: Pulling fs layer\n",
      "Step #0: 63c6308d7125: Pulling fs layer\n",
      "Step #0: e7076ce00cca: Pulling fs layer\n",
      "Step #0: 084f6df051b9: Pulling fs layer\n",
      "Step #0: 57db7fe0b522: Waiting\n",
      "Step #0: b11ab658a92d: Waiting\n",
      "Step #0: 16211b60a645: Waiting\n",
      "Step #0: 3bb944b07b6e: Waiting\n",
      "Step #0: 791f84056415: Waiting\n",
      "Step #0: 3d7f8829d670: Waiting\n",
      "Step #0: 63c6308d7125: Waiting\n",
      "Step #0: e7076ce00cca: Waiting\n",
      "Step #0: 084f6df051b9: Waiting\n",
      "Step #0: f9df1fafd224: Verifying Checksum\n",
      "Step #0: f9df1fafd224: Download complete\n",
      "Step #0: a645a4b887f9: Verifying Checksum\n",
      "Step #0: a645a4b887f9: Download complete\n",
      "Step #0: fe703b657a32: Verifying Checksum\n",
      "Step #0: fe703b657a32: Download complete\n",
      "Step #0: 57db7fe0b522: Verifying Checksum\n",
      "Step #0: 57db7fe0b522: Download complete\n",
      "Step #0: 16211b60a645: Verifying Checksum\n",
      "Step #0: 16211b60a645: Download complete\n",
      "Step #0: 3bb944b07b6e: Verifying Checksum\n",
      "Step #0: 3bb944b07b6e: Download complete\n",
      "Step #0: b11ab658a92d: Verifying Checksum\n",
      "Step #0: b11ab658a92d: Download complete\n",
      "Step #0: 3d7f8829d670: Verifying Checksum\n",
      "Step #0: 3d7f8829d670: Download complete\n",
      "Step #0: e7076ce00cca: Verifying Checksum\n",
      "Step #0: e7076ce00cca: Download complete\n",
      "Step #0: 63c6308d7125: Verifying Checksum\n",
      "Step #0: 63c6308d7125: Download complete\n",
      "Step #0: 084f6df051b9: Verifying Checksum\n",
      "Step #0: 084f6df051b9: Download complete\n",
      "Step #0: 791f84056415: Verifying Checksum\n",
      "Step #0: 791f84056415: Download complete\n",
      "Step #0: fe703b657a32: Pull complete\n",
      "Step #0: f9df1fafd224: Pull complete\n",
      "Step #0: a645a4b887f9: Pull complete\n",
      "Step #0: 57db7fe0b522: Pull complete\n",
      "Step #0: b11ab658a92d: Pull complete\n",
      "Step #0: 16211b60a645: Pull complete\n",
      "Step #0: 3bb944b07b6e: Pull complete\n",
      "Step #0: 791f84056415: Pull complete\n",
      "Step #0: 3d7f8829d670: Pull complete\n",
      "Step #0: 63c6308d7125: Pull complete\n",
      "Step #0: e7076ce00cca: Pull complete\n",
      "Step #0: 084f6df051b9: Pull complete\n",
      "Step #0: Digest: sha256:57bb5d63a6a73912fcf821b91e2e5bc0ab7f730201038b407a644d182769d075\n",
      "Step #0: Status: Downloaded newer image for tensorflow/tfx:0.21.2\n",
      "Step #0:  ---> 131efa6e43e7\n",
      "Step #0: Step 2/5 : WORKDIR /pipeline\n",
      "Step #0:  ---> Running in d4f6aa7f46d7\n",
      "Step #0: Removing intermediate container d4f6aa7f46d7\n",
      "Step #0:  ---> 3c17d98f8ff1\n",
      "Step #0: Step 3/5 : COPY pipeline/* ./\n",
      "Step #0:  ---> a750b008c89c\n",
      "Step #0: Step 4/5 : COPY schema/schema.pbtxt ./schema/\n",
      "Step #0:  ---> 04a520b23682\n",
      "Step #0: Step 5/5 : ENV PYTHONPATH=\"/pipeline:${PYTHONPATH}\"\n",
      "Step #0:  ---> Running in 23672edc5b32\n",
      "Step #0: Removing intermediate container 23672edc5b32\n",
      "Step #0:  ---> 7bc983f1eaa2\n",
      "Step #0: Successfully built 7bc983f1eaa2\n",
      "Step #0: Successfully tagged gcr.io/mlops-workshop/lab-03-tfx-image:test\n",
      "Finished Step #0\n",
      "Starting Step #1\n",
      "Step #1: Pulling image: gcr.io/mlops-workshop/tfx-cli\n",
      "Step #1: Using default tag: latest\n",
      "Step #1: latest: Pulling from mlops-workshop/tfx-cli\n",
      "Step #1: 423ae2b273f4: Already exists\n",
      "Step #1: de83a2304fa1: Already exists\n",
      "Step #1: f9a83bce3af0: Already exists\n",
      "Step #1: b6b53be908de: Already exists\n",
      "Step #1: b2712ee52c8a: Pulling fs layer\n",
      "Step #1: ea5f203ec613: Pulling fs layer\n",
      "Step #1: 03c59c37590c: Pulling fs layer\n",
      "Step #1: 7f1f0de4c26d: Pulling fs layer\n",
      "Step #1: acbb498b3663: Pulling fs layer\n",
      "Step #1: e902a9253d07: Pulling fs layer\n",
      "Step #1: f840da7abf6f: Pulling fs layer\n",
      "Step #1: 7df56b5a1b90: Pulling fs layer\n",
      "Step #1: a2724a388c5b: Pulling fs layer\n",
      "Step #1: 444a423384b3: Pulling fs layer\n",
      "Step #1: c8782b778b9f: Pulling fs layer\n",
      "Step #1: 8e8ac5d0d6f3: Pulling fs layer\n",
      "Step #1: 455723d7f082: Pulling fs layer\n",
      "Step #1: f1b3fcc9bb5e: Pulling fs layer\n",
      "Step #1: 11000bbb250a: Pulling fs layer\n",
      "Step #1: 7f1f0de4c26d: Waiting\n",
      "Step #1: acbb498b3663: Waiting\n",
      "Step #1: e902a9253d07: Waiting\n",
      "Step #1: f840da7abf6f: Waiting\n",
      "Step #1: 7df56b5a1b90: Waiting\n",
      "Step #1: a2724a388c5b: Waiting\n",
      "Step #1: 444a423384b3: Waiting\n",
      "Step #1: c8782b778b9f: Waiting\n",
      "Step #1: 8e8ac5d0d6f3: Waiting\n",
      "Step #1: 455723d7f082: Waiting\n",
      "Step #1: f1b3fcc9bb5e: Waiting\n",
      "Step #1: 11000bbb250a: Waiting\n",
      "Step #1: 03c59c37590c: Verifying Checksum\n",
      "Step #1: 03c59c37590c: Download complete\n",
      "Step #1: ea5f203ec613: Verifying Checksum\n",
      "Step #1: ea5f203ec613: Download complete\n",
      "Step #1: acbb498b3663: Verifying Checksum\n",
      "Step #1: acbb498b3663: Download complete\n",
      "Step #1: 7f1f0de4c26d: Verifying Checksum\n",
      "Step #1: 7f1f0de4c26d: Download complete\n",
      "Step #1: e902a9253d07: Verifying Checksum\n",
      "Step #1: e902a9253d07: Download complete\n",
      "Step #1: f840da7abf6f: Verifying Checksum\n",
      "Step #1: f840da7abf6f: Download complete\n",
      "Step #1: 7df56b5a1b90: Verifying Checksum\n",
      "Step #1: 7df56b5a1b90: Download complete\n",
      "Step #1: a2724a388c5b: Verifying Checksum\n",
      "Step #1: a2724a388c5b: Download complete\n",
      "Step #1: 444a423384b3: Verifying Checksum\n",
      "Step #1: 444a423384b3: Download complete\n",
      "Step #1: b2712ee52c8a: Verifying Checksum\n",
      "Step #1: b2712ee52c8a: Download complete\n",
      "Step #1: 455723d7f082: Verifying Checksum\n",
      "Step #1: 455723d7f082: Download complete\n",
      "Step #1: f1b3fcc9bb5e: Verifying Checksum\n",
      "Step #1: f1b3fcc9bb5e: Download complete\n",
      "Step #1: 8e8ac5d0d6f3: Verifying Checksum\n",
      "Step #1: 8e8ac5d0d6f3: Download complete\n",
      "Step #1: 11000bbb250a: Verifying Checksum\n",
      "Step #1: 11000bbb250a: Download complete\n",
      "Step #1: c8782b778b9f: Verifying Checksum\n",
      "Step #1: c8782b778b9f: Download complete\n",
      "Step #1: b2712ee52c8a: Pull complete\n",
      "Step #1: ea5f203ec613: Pull complete\n",
      "Step #1: 03c59c37590c: Pull complete\n",
      "Step #1: 7f1f0de4c26d: Pull complete\n",
      "Step #1: acbb498b3663: Pull complete\n",
      "Step #1: e902a9253d07: Pull complete\n",
      "Step #1: f840da7abf6f: Pull complete\n",
      "Step #1: 7df56b5a1b90: Pull complete\n",
      "Step #1: a2724a388c5b: Pull complete\n",
      "Step #1: 444a423384b3: Pull complete\n",
      "Step #1: c8782b778b9f: Pull complete\n",
      "Step #1: 8e8ac5d0d6f3: Pull complete\n",
      "Step #1: 455723d7f082: Pull complete\n",
      "Step #1: f1b3fcc9bb5e: Pull complete\n",
      "Step #1: 11000bbb250a: Pull complete\n",
      "Step #1: Digest: sha256:a169769efc7a63b02d7121304fa62b9b9e41bb152f1243df099727ad139c4d5e\n",
      "Step #1: Status: Downloaded newer image for gcr.io/mlops-workshop/tfx-cli:latest\n",
      "Step #1: gcr.io/mlops-workshop/tfx-cli:latest\n",
      "Step #1: CLI\n",
      "Step #1: Creating pipeline\n",
      "Step #1: Reading build spec from build.yaml\n",
      "Step #1: Use skaffold to build the container image.\n",
      "Step #1: No executable skaffold\n",
      "Step #1: please refer to https://github.com/GoogleContainerTools/skaffold/releases for installation instructions.\n",
      "Step #1: No container image is built.\n",
      "Step #1: Traceback (most recent call last):\n",
      "Step #1:   File \"/opt/conda/lib/python3.7/site-packages/tfx/tools/cli/container_builder/skaffold_cli.py\", line 38, in __init__\n",
      "Step #1:     subprocess.run(['which', self._cmd], check=True)\n",
      "Step #1:   File \"/opt/conda/lib/python3.7/subprocess.py\", line 512, in run\n",
      "Step #1:     output=stdout, stderr=stderr)\n",
      "Step #1: subprocess.CalledProcessError: Command '['which', 'skaffold']' returned non-zero exit status 1.\n",
      "Step #1: \n",
      "Step #1: During handling of the above exception, another exception occurred:\n",
      "Step #1: \n",
      "Step #1: Traceback (most recent call last):\n",
      "Step #1:   File \"/opt/conda/bin/tfx\", line 8, in <module>\n",
      "Step #1:     sys.exit(cli_group())\n",
      "Step #1:   File \"/opt/conda/lib/python3.7/site-packages/click/core.py\", line 764, in __call__\n",
      "Step #1:     return self.main(*args, **kwargs)\n",
      "Step #1:   File \"/opt/conda/lib/python3.7/site-packages/click/core.py\", line 717, in main\n",
      "Step #1:     rv = self.invoke(ctx)\n",
      "Step #1:   File \"/opt/conda/lib/python3.7/site-packages/click/core.py\", line 1137, in invoke\n",
      "Step #1:     return _process_result(sub_ctx.command.invoke(sub_ctx))\n",
      "Step #1:   File \"/opt/conda/lib/python3.7/site-packages/click/core.py\", line 1137, in invoke\n",
      "Step #1:     return _process_result(sub_ctx.command.invoke(sub_ctx))\n",
      "Step #1:   File \"/opt/conda/lib/python3.7/site-packages/click/core.py\", line 956, in invoke\n",
      "Step #1:     return ctx.invoke(self.callback, **ctx.params)\n",
      "Step #1:   File \"/opt/conda/lib/python3.7/site-packages/click/core.py\", line 555, in invoke\n",
      "Step #1:     return callback(*args, **kwargs)\n",
      "Step #1:   File \"/opt/conda/lib/python3.7/site-packages/click/decorators.py\", line 64, in new_func\n",
      "Step #1:     return ctx.invoke(f, obj, *args, **kwargs)\n",
      "Step #1:   File \"/opt/conda/lib/python3.7/site-packages/click/core.py\", line 555, in invoke\n",
      "Step #1:     return callback(*args, **kwargs)\n",
      "Step #1:   File \"/opt/conda/lib/python3.7/site-packages/tfx/tools/cli/commands/pipeline.py\", line 108, in create_pipeline\n",
      "Step #1:     handler_factory.create_handler(ctx.flags_dict).create_pipeline()\n",
      "Step #1:   File \"/opt/conda/lib/python3.7/site-packages/tfx/tools/cli/handler/kubeflow_handler.py\", line 74, in create_pipeline\n",
      "Step #1:     skaffold_cmd)\n",
      "Step #1:   File \"/opt/conda/lib/python3.7/site-packages/tfx/tools/cli/handler/kubeflow_handler.py\", line 279, in _build_pipeline_image\n",
      "Step #1:     skaffold_cmd=skaffold_cmd).build()\n",
      "Step #1:   File \"/opt/conda/lib/python3.7/site-packages/tfx/tools/cli/container_builder/builder.py\", line 94, in build\n",
      "Step #1:     skaffold_cli = SkaffoldCli(cmd=self._skaffold_cmd)\n",
      "Step #1:   File \"/opt/conda/lib/python3.7/site-packages/tfx/tools/cli/container_builder/skaffold_cli.py\", line 44, in __init__\n",
      "Step #1:     raise RuntimeError\n",
      "Step #1: RuntimeError\n",
      "Finished Step #1\n",
      "ERROR\n",
      "ERROR: build step 1 \"gcr.io/mlops-workshop/tfx-cli\" failed: step exited with non-zero status: 1\n",
      "--------------------------------------------------------------------------------\n",
      "\n",
      "\u001b[1;31mERROR:\u001b[0m (gcloud.builds.submit) build 3b4704f8-23f2-49f6-ba45-fb53fab90909 completed with status \"FAILURE\"\n"
     ]
    }
   ],
   "source": [
    "!gcloud builds submit .. --config cloudbuild.yaml --substitutions {SUBSTITUTIONS}"
   ]
  },
  {
   "cell_type": "markdown",
   "metadata": {},
   "source": [
    "## Setting up GitHub integration\n",
    "\n",
    "In this exercise you integrate your CI/CD workflow with **GitHub**, using [Cloud Build GitHub App](https://github.com/marketplace/google-cloud-build). \n",
    "You will set up a trigger that starts the CI/CD workflow when a new tag is applied to the **GitHub** repo managing the  pipeline source code. You will use a fork of this repo as your source GitHub repository."
   ]
  },
  {
   "cell_type": "markdown",
   "metadata": {},
   "source": [
    "### Create a fork of this repo\n",
    "[Follow the GitHub documentation](https://help.github.com/en/github/getting-started-with-github/fork-a-repo) to fork this repo"
   ]
  },
  {
   "cell_type": "markdown",
   "metadata": {},
   "source": [
    "### Create a **Cloud Build** trigger\n",
    "\n",
    "Connect the fork you created in the previous step to your Google Cloud project and create a trigger following the steps in the [Creating GitHub app trigger](https://cloud.google.com/cloud-build/docs/create-github-app-triggers) article. Use the following values on the **Edit trigger** form:\n",
    "\n",
    "|Field|Value|\n",
    "|-----|-----|\n",
    "|Name|[YOUR TRIGGER NAME]|\n",
    "|Description|[YOUR TRIGGER DESCRIPTION]|\n",
    "|Event| Tag|\n",
    "|Source| [YOUR FORK]|\n",
    "|Tag (regex)|.\\*|\n",
    "|Build Configuration|Cloud Build configuration file (yaml or json)|\n",
    "|Cloud Build configuration file location|/ workshops/tfx-caip-tf21/lab-03-tfx-cicd/cloudbuild.yaml|\n",
    "\n",
    "\n",
    "Use the following values for the substitution variables:\n",
    "\n",
    "|Variable|Value|\n",
    "|--------|-----|\n",
    "|_ENDPOINT|[Your inverting proxy host]|\n",
    "|_TFX_IMAGE_NAME|lab-03-tfx-image|\n",
    "|_PIPELINE_NAME|tfx_covertype_training_deployment|\n",
    "|_PIPELINE_DSL|pipeline/runner.py|\n",
    "|_DATA_ROOT_URI|gs://workshop-datasets/covertype/small|\n",
    "|_PIPELINE_FOLDER|workshops/tfx-caip-tf21/lab-02-tfx-pipeline|\n",
    "|_PYTHON_VERSION|3.7|\n",
    "|_RUNTIME_VERSION|2.1|"
   ]
  },
  {
   "cell_type": "markdown",
   "metadata": {},
   "source": [
    "### Trigger the build\n",
    "\n",
    "To start an automated build [create a new release of the repo in GitHub](https://help.github.com/en/github/administering-a-repository/creating-releases). Alternatively, you can start the build by applying a tag using `git`. \n",
    "```\n",
    "git tag [TAG NAME]\n",
    "git push origin --tags\n",
    "```\n"
   ]
  },
  {
   "cell_type": "code",
   "execution_count": null,
   "metadata": {},
   "outputs": [],
   "source": []
  },
  {
   "cell_type": "code",
   "execution_count": null,
   "metadata": {},
   "outputs": [],
   "source": [
    "!tfx pipeline list --endpoint={ENDPOINT}"
   ]
  },
  {
   "cell_type": "code",
   "execution_count": null,
   "metadata": {},
   "outputs": [],
   "source": []
  },
  {
   "cell_type": "code",
   "execution_count": null,
   "metadata": {},
   "outputs": [],
   "source": [
    "!tfx run create --pipeline_name={PIPELINE_NAME} --endpoint={ENDPOINT}"
   ]
  }
 ],
 "metadata": {
  "kernelspec": {
   "display_name": "Python 3",
   "language": "python",
   "name": "python3"
  },
  "language_info": {
   "codemirror_mode": {
    "name": "ipython",
    "version": 3
   },
   "file_extension": ".py",
   "mimetype": "text/x-python",
   "name": "python",
   "nbconvert_exporter": "python",
   "pygments_lexer": "ipython3",
   "version": "3.7.6"
  }
 },
 "nbformat": 4,
 "nbformat_minor": 4
}
